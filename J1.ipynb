{
 "cells": [
  {
   "cell_type": "markdown",
   "metadata": {},
   "source": [
    "### Precedence Rules"
   ]
  },
  {
   "cell_type": "code",
   "execution_count": 1,
   "metadata": {},
   "outputs": [
    {
     "name": "stdout",
     "output_type": "stream",
     "text": [
      "9.0\n"
     ]
    }
   ],
   "source": [
    "print(6/2*(1+2))"
   ]
  },
  {
   "cell_type": "code",
   "execution_count": 2,
   "metadata": {},
   "outputs": [
    {
     "name": "stdout",
     "output_type": "stream",
     "text": [
      "134217728\n"
     ]
    }
   ],
   "source": [
    "print(2**3**3)"
   ]
  },
  {
   "cell_type": "code",
   "execution_count": 3,
   "metadata": {},
   "outputs": [
    {
     "name": "stdout",
     "output_type": "stream",
     "text": [
      "512\n"
     ]
    }
   ],
   "source": [
    "print((2**3)**3)"
   ]
  },
  {
   "cell_type": "markdown",
   "metadata": {},
   "source": [
    "Decreasing Presecendce (Rightwards and Downwards)\n",
    "\n",
    "- x**y\n",
    "-    -x\n",
    "-        x%y     x/y     x*y\n",
    "-          x-y    x+y\n",
    "-                x==y    x!=y    x>=y    x<=y    x<y\n",
    "-                    not x\n",
    "-                        x and y     x or y"
   ]
  },
  {
   "cell_type": "code",
   "execution_count": 2,
   "metadata": {},
   "outputs": [
    {
     "name": "stdout",
     "output_type": "stream",
     "text": [
      "hello worldhello worldhello worldhello world\n",
      "[1, 2, 3, 4, 5, 1, 2, 3, 4, 5, 1, 2, 3, 4, 5, 1, 2, 3, 4, 5]\n"
     ]
    }
   ],
   "source": [
    "strings = 'hello world'\n",
    "intval = 10\n",
    "floatval = 3.14\n",
    "listis = [1,2,3,4,5]\n",
    "distis = {'a':1,'b':2,'c':3}\n",
    "tupleis = (1,2,3,4,5)\n",
    "len(strings)\n",
    "len(listis)\n",
    "len(distis)\n",
    "len(tupleis)\n",
    "\n",
    "print(strings*4)\n",
    "print(listis*4)"
   ]
  },
  {
   "cell_type": "markdown",
   "metadata": {},
   "source": [
    "### FLOATING POINT NUMBERS"
   ]
  },
  {
   "cell_type": "markdown",
   "metadata": {},
   "source": [
    "### Acccessing Data Types"
   ]
  },
  {
   "cell_type": "code",
   "execution_count": 13,
   "metadata": {},
   "outputs": [
    {
     "name": "stdout",
     "output_type": "stream",
     "text": [
      "50000\n",
      "51000\n",
      "52000\n"
     ]
    }
   ],
   "source": [
    "# Update the value of a variable\n",
    "income = 50000\n",
    "print(income)\n",
    "income = income + 1000\n",
    "print(income)\n",
    "income += 1000\n",
    "print(income)"
   ]
  },
  {
   "cell_type": "code",
   "execution_count": 8,
   "metadata": {},
   "outputs": [
    {
     "name": "stdout",
     "output_type": "stream",
     "text": [
      "10\n",
      "15\n",
      "5\n"
     ]
    }
   ],
   "source": [
    "# Variable Reassignment\n",
    "x = 10\n",
    "print(x)\n",
    "x = x + 5\n",
    "print(x)\n",
    "x = 5\n",
    "print(x)"
   ]
  },
  {
   "cell_type": "code",
   "execution_count": 11,
   "metadata": {},
   "outputs": [
    {
     "name": "stdout",
     "output_type": "stream",
     "text": [
      "h\n",
      "e\n",
      "d\n",
      "dlrow olleh\n",
      "HELLO WORLD\n",
      "False\n",
      "['hello', 'world']\n",
      "True\n"
     ]
    }
   ],
   "source": [
    "# Accessing the strings\n",
    "sample = 'hello world'\n",
    "print(sample[0]) # Indexing begins from 0\n",
    "print(sample[1])\n",
    "print(sample[-1]) # Mind that Negative indexing begins from -1\n",
    "print(sample[::-1])\n",
    "print(sample.upper())\n",
    "print(sample.isalpha()) # Many more such functions are available\n",
    "print(sample.split(' '))\n",
    "print(sample.isascii())"
   ]
  },
  {
   "cell_type": "code",
   "execution_count": 12,
   "metadata": {},
   "outputs": [
    {
     "name": "stdout",
     "output_type": "stream",
     "text": [
      "5\n",
      "hello world\n"
     ]
    }
   ],
   "source": [
    "print(x); print(sample) # Multiple statements in a single line\n",
    "#Python can also use semi-colon to separate multiple statements in a single line"
   ]
  },
  {
   "cell_type": "markdown",
   "metadata": {},
   "source": [
    "### Conditional Statements"
   ]
  },
  {
   "cell_type": "code",
   "execution_count": 2,
   "metadata": {},
   "outputs": [
    {
     "name": "stdout",
     "output_type": "stream",
     "text": [
      "x is not 10, 20 or 30\n"
     ]
    }
   ],
   "source": [
    "x = int(input('Enter a number: '))\n",
    "\n",
    "if x == 10:\n",
    "    print('x is 10')\n",
    "elif x == 20:\n",
    "    print('x is 20')\n",
    "elif x == 30:\n",
    "    print('x is 30')\n",
    "else: \n",
    "    print('x is not 10, 20 or 30')"
   ]
  },
  {
   "cell_type": "code",
   "execution_count": 3,
   "metadata": {},
   "outputs": [
    {
     "name": "stdout",
     "output_type": "stream",
     "text": [
      "Atleast one is even\n"
     ]
    }
   ],
   "source": [
    "# Multiple conditions\n",
    "\n",
    "x = int(input('Enter a number: '))\n",
    "y = int(input('Enter another number: '))\n",
    "\n",
    "if x % 2 == 0 and y % 2 == 0:\n",
    "    print('Both are even')\n",
    "elif x % 2 == 0 or y % 2 == 0:\n",
    "    print('Atleast one is even')\n",
    "else:    \n",
    "    print('Both are odd')"
   ]
  },
  {
   "cell_type": "markdown",
   "metadata": {},
   "source": [
    "### Loops"
   ]
  },
  {
   "cell_type": "code",
   "execution_count": 6,
   "metadata": {},
   "outputs": [
    {
     "name": "stdout",
     "output_type": "stream",
     "text": [
      "h\n",
      "e\n",
      "l\n",
      "l\n",
      "o\n",
      " \n",
      "a\n",
      "n\n",
      "i\n",
      "m\n",
      "i\n",
      "s\n",
      "h\n",
      "h\n",
      "e\n",
      "l\n",
      "l\n",
      "o\n",
      " \n",
      "a\n",
      "n\n",
      "i\n",
      "m\n",
      "i\n",
      "s\n",
      "h\n"
     ]
    }
   ],
   "source": [
    "string = input('Enter a string: ')\n",
    "\n",
    "for i in range (0,len(string)):\n",
    "    print(string[i])\n",
    "    \n",
    "i = 0\n",
    "\n",
    "while (i < len(string)):\n",
    "    print(string[i])\n",
    "    i += 1\n"
   ]
  },
  {
   "attachments": {
    "image.png": {
     "image/png": "[encoded data removed]"
    }
   },
   "cell_type": "markdown",
   "metadata": {},
   "source": [
    "##### MISC\n",
    "\n",
    "for while C do S where C is condition and S is statement\n",
    "\n",
    "![image.png](attachment:image.png)"
   ]
  },
  {
   "attachments": {
    "image.png": {
     "image/png": "[encoded data removed]"
    }
   },
   "cell_type": "markdown",
   "metadata": {},
   "source": [
    "ASCII Codes can be used to display complex or not regularly used character \n",
    "to use ascii chars, write the ascii code preceded by \\u\n",
    "\n",
    "![image.png](attachment:image.png)\n",
    "\n",
    "ASCII contains 143859 chars from 154 modern and historic scripts."
   ]
  },
  {
   "cell_type": "markdown",
   "metadata": {},
   "source": [
    "### Strings Operations"
   ]
  },
  {
   "cell_type": "code",
   "execution_count": 11,
   "metadata": {},
   "outputs": [
    {
     "name": "stdout",
     "output_type": "stream",
     "text": [
      "hello world\n",
      "hellohellohello\n",
      "hellohellohello\n",
      "say \"hello\" to the world\n",
      "hello\n",
      "world\n"
     ]
    }
   ],
   "source": [
    "string1 = 'hello'\n",
    "string2 = 'world'\n",
    "\n",
    "print(string1 + ' ' + string2)\n",
    "print(string1 * 3)\n",
    "print(3 * string1)\n",
    "\n",
    "string3 = \"say \\\"hello\\\" to the world\"\n",
    "print(string3)\n",
    "\n",
    "string4 = string1 + '\\n' + string2\n",
    "print(string4)"
   ]
  }
 ],
 "metadata": {
  "kernelspec": {
   "display_name": "Python 3",
   "language": "python",
   "name": "python3"
  },
  "language_info": {
   "codemirror_mode": {
    "name": "ipython",
    "version": 3
   },
   "file_extension": ".py",
   "mimetype": "text/x-python",
   "name": "python",
   "nbconvert_exporter": "python",
   "pygments_lexer": "ipython3",
   "version": "3.11.6"
  }
 },
 "nbformat": 4,
 "nbformat_minor": 2
}
